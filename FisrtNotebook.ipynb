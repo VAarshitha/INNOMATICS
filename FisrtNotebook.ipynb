{
 "cells": [
  {
   "cell_type": "code",
   "execution_count": 1,
   "id": "35ecda95-53e6-4281-a1e2-712196537478",
   "metadata": {},
   "outputs": [],
   "source": [
    "import pandas as pd\n",
    "import numpy as np\n",
    "import os\n",
    "from zipfile import ZipFile\n"
   ]
  },
  {
   "cell_type": "code",
   "execution_count": 5,
   "id": "e4fa9dcc-2793-4ece-9b4b-369fcae5edb7",
   "metadata": {},
   "outputs": [
    {
     "name": "stdout",
     "output_type": "stream",
     "text": [
      "C:\\Users\\varsh\\OneDrive\\Desktop\\INNOMATICS\n"
     ]
    }
   ],
   "source": [
    "import os\n",
    "print(os.getcwd())  # This shows the current directory\n"
   ]
  },
  {
   "cell_type": "code",
   "execution_count": 7,
   "id": "846a11f5-c89f-427d-8c0d-cd57185d598e",
   "metadata": {},
   "outputs": [],
   "source": [
    "zip_path = \"/path/to/Property_data-20250109T055141Z-001.zip\"\n"
   ]
  },
  {
   "cell_type": "code",
   "execution_count": 9,
   "id": "06abec52-c16f-4ada-a0b8-9e10c78d6609",
   "metadata": {},
   "outputs": [],
   "source": [
    "from zipfile import ZipFile\n",
    "\n",
    "zip_path = \"Property_data-20250109T055141Z-001.zip\"  # Ensure this is correct\n",
    "extracted_path = \"./Property_data/\"\n",
    "\n",
    "with ZipFile(zip_path, 'r') as zip_ref:\n",
    "    zip_ref.extractall(extracted_path)\n"
   ]
  },
  {
   "cell_type": "code",
   "execution_count": 11,
   "id": "5f29be8d-c523-41a4-aff5-1325f5351ec4",
   "metadata": {},
   "outputs": [
    {
     "name": "stdout",
     "output_type": "stream",
     "text": [
      "['.ipynb_checkpoints', 'anaconda_projects', 'FisrtNotebook.ipynb', 'Property_data', 'Property_data-20250109T055141Z-001.zip', 'property_interactions.csv', 'property_photos.tsv']\n"
     ]
    }
   ],
   "source": [
    "import os\n",
    "print(os.listdir())\n"
   ]
  },
  {
   "cell_type": "code",
   "execution_count": 17,
   "id": "c7bce39e-26da-41b7-a2df-e42d7c8c5bee",
   "metadata": {},
   "outputs": [
    {
     "name": "stdout",
     "output_type": "stream",
     "text": [
      "Extraction completed!\n"
     ]
    }
   ],
   "source": [
    "from zipfile import ZipFile\n",
    "\n",
    "# Specify the correct path to the ZIP file\n",
    "zip_path = \"Property_data-20250109T055141Z-001.zip\"\n",
    "extracted_path = \"./Property_data/\"\n",
    "\n",
    "# Extract the contents of the ZIP file\n",
    "with ZipFile(zip_path, 'r') as zip_ref:\n",
    "    zip_ref.extractall(extracted_path)\n",
    "\n",
    "print(\"Extraction completed!\")\n"
   ]
  },
  {
   "cell_type": "code",
   "execution_count": 19,
   "id": "d9449b38-aaef-4233-b3aa-2526efa50bf6",
   "metadata": {},
   "outputs": [
    {
     "name": "stdout",
     "output_type": "stream",
     "text": [
      "['Property_data']\n"
     ]
    }
   ],
   "source": [
    "import os\n",
    "\n",
    "# List the contents of the extracted folder\n",
    "extracted_files = os.listdir(\"./Property_data/\")\n",
    "print(extracted_files)\n"
   ]
  },
  {
   "cell_type": "code",
   "execution_count": null,
   "id": "983382a7-3a31-4967-9e51-46195c603d81",
   "metadata": {},
   "outputs": [],
   "source": []
  }
 ],
 "metadata": {
  "kernelspec": {
   "display_name": "Python [conda env:base] *",
   "language": "python",
   "name": "conda-base-py"
  },
  "language_info": {
   "codemirror_mode": {
    "name": "ipython",
    "version": 3
   },
   "file_extension": ".py",
   "mimetype": "text/x-python",
   "name": "python",
   "nbconvert_exporter": "python",
   "pygments_lexer": "ipython3",
   "version": "3.12.7"
  }
 },
 "nbformat": 4,
 "nbformat_minor": 5
}
